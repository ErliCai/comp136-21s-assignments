{
 "cells": [
  {
   "cell_type": "markdown",
   "metadata": {},
   "source": [
    "# COMP 135 day07: Probabilistic Linear Regression\n",
    "\n",
    "## Outline\n",
    "\n",
    "* **Part 1: Showing samples from the posterior**\n",
    "* * Learn to make plots of posterior distributions over the weights for simple regression problems\n",
    "\n",
    "\n",
    "## Takeaways\n",
    "\n",
    "* Hyperparameters like $\\alpha$ (prior precision) and $\\beta$ (likelihood precision) matter\n",
    "* * We'll talk more about dealing with these next class"
   ]
  },
  {
   "cell_type": "code",
   "execution_count": 1,
   "metadata": {},
   "outputs": [],
   "source": [
    "import numpy as np\n",
    "import pandas as pd\n",
    "import scipy.stats"
   ]
  },
  {
   "cell_type": "code",
   "execution_count": 2,
   "metadata": {},
   "outputs": [],
   "source": [
    "np.set_printoptions(precision=3, suppress=False)"
   ]
  },
  {
   "cell_type": "code",
   "execution_count": 3,
   "metadata": {},
   "outputs": [],
   "source": [
    "pd.options.display.float_format = '{:,.3g}'.format  # show 3 digits of precision"
   ]
  },
  {
   "cell_type": "code",
   "execution_count": 4,
   "metadata": {},
   "outputs": [],
   "source": [
    "import matplotlib.pyplot as plt\n",
    "import seaborn as sns\n",
    "sns.set_style(\"whitegrid\")\n",
    "sns.set_context(\"notebook\", font_scale=1.25)"
   ]
  },
  {
   "cell_type": "code",
   "execution_count": null,
   "metadata": {},
   "outputs": [],
   "source": []
  },
  {
   "cell_type": "markdown",
   "metadata": {},
   "source": [
    "# Part 1: The Probabilistic view of linear regression"
   ]
  },
  {
   "cell_type": "markdown",
   "metadata": {},
   "source": [
    "### Task: Linear regression\n",
    "\n",
    "Given $N$ observations of *paired* feature-outcome observations: $\\{ x_n, t_n \\}$. Each $x_n$ is a scalar, and each $t_n$ is a scalar.\n",
    "\n",
    "We're also given a feature transform function $\\phi$ which maps each $x_n$ to a vector in $M$-dimensional space. This function is known in advance. For now, we'll assume that the \"feature transform\" $\\phi(x_n)$ just simply passes along the features $x_n$, while adding an additional offset or \"intercept\" feature that is always 1. This is a *simplifying* assumption for today.\n",
    "\n",
    "\n",
    "We want to make good predictions of new outcomes $t_*$ given new features $x_*$.\n",
    "\n"
   ]
  },
  {
   "cell_type": "code",
   "execution_count": 5,
   "metadata": {},
   "outputs": [],
   "source": [
    "def calc_features(x_N1, M=2):\n",
    "    ''' Transform raw features into complete features useful for prediction\n",
    "    \n",
    "    Could do any non-linear transformations thought relevant for the problem.\n",
    "    Here we'll just do an identity transform with an extra intercept feature.\n",
    "    \n",
    "    Args\n",
    "    ----\n",
    "    x_N1 : 2D array, shape (N, 1) = (n_examples,)\n",
    "    \n",
    "    Returns\n",
    "    -------\n",
    "    phi_NM : 2D array, shape (N, M) = (n_examples, n_transformed_features)\n",
    "        First column will contain all ones (a bias or intercept feature)\n",
    "        Second column will just include the raw features\n",
    "    '''\n",
    "    assert x_N1.ndim == 2\n",
    "    assert x_N1.shape[1] == 1\n",
    "    N = x_N1.shape[0]\n",
    "    phi_NM = np.zeros((N, M))\n",
    "    phi_NM[:,0] = 1\n",
    "    phi_NM[:,1] = x_N1[:,0]\n",
    "    return phi_NM"
   ]
  },
  {
   "cell_type": "markdown",
   "metadata": {},
   "source": [
    "## Exercise 1a: Obtain transformed features $\\phi(x_n)$ when $x_n = [2.0]$"
   ]
  },
  {
   "cell_type": "code",
   "execution_count": 6,
   "metadata": {},
   "outputs": [],
   "source": [
    "# TODO call calc_features() for the vector x_n = [2.0]"
   ]
  },
  {
   "cell_type": "markdown",
   "metadata": {},
   "source": [
    "\n",
    "## Define the Likelihood\n",
    "\n",
    "Each observation (indexed by $n$) is drawn iid from a Normal as follows:\n",
    "\n",
    "$$\n",
    "t_n \\sim \\mathcal{N}( t_n | w^T \\phi(x_n), \\beta^{-1} )\n",
    "$$\n",
    "\n",
    "The key properties here are:\n",
    "* The *mean* is a linear function of the transformed features.\n",
    "* The *precision* (inverse variance) is assumed a known value defined by parameter $\\beta > 0$\n",
    "\n",
    "## Define the  Prior\n",
    "\n",
    "For now, we'll assume that weights come from a zero mean prior with some covariance determined by a scalar parameter $\\alpha$:\n",
    "\n",
    "$$\n",
    "w \\sim \\mathcal{N}( 0, \\alpha^{-1} I_M )\n",
    "$$\n",
    "\n",
    "A zero mean prior makes sense if we don't know if the slope should be negative or positive.\n",
    "\n",
    "### Parameter we'll treat as a random variable: $w$\n",
    "\n",
    "* Weights vector: $w = [w_1, w_2, \\ldots w_M]^T$, so $w \\in \\mathbb{R}^M$\n",
    "\n",
    "### Parameters we'll treat as fixed: $\\alpha$ and $\\beta$\n",
    "\n",
    "\n",
    "* Prior precision $\\alpha > 0$\n",
    "\n",
    "The larger $\\alpha$ is, the more confident we are in the weight values before seeing any data.\n",
    "\n",
    "* Likelihood precision $\\beta > 0$\n",
    "\n",
    "The larger $\\beta$ is, the less the observed $t$ values vary from the predicted mean."
   ]
  },
  {
   "cell_type": "markdown",
   "metadata": {},
   "source": [
    "## Create a simple toy data for analysis\n",
    "\n",
    "Just execute the cells below to get the sense of how to generate toy data from this model\n",
    "\n",
    "We'll manually intervene to set the weight vector to a known value. This makes it easy to tell if our learning is working later on."
   ]
  },
  {
   "cell_type": "code",
   "execution_count": 9,
   "metadata": {},
   "outputs": [],
   "source": [
    "N = 2000  # Number of examples we observe\n",
    "M = 2     # Number of transformed features"
   ]
  },
  {
   "cell_type": "code",
   "execution_count": 10,
   "metadata": {},
   "outputs": [],
   "source": [
    "# Create reproducible pseudorandom number generator\n",
    "prng = np.random.RandomState(0)"
   ]
  },
  {
   "cell_type": "markdown",
   "metadata": {},
   "source": [
    "Create the weight vector we'll use to generate our dataset. Set an intercept of 1.2 and a slope of -0.75"
   ]
  },
  {
   "cell_type": "code",
   "execution_count": 12,
   "metadata": {},
   "outputs": [],
   "source": [
    "true_w_M = np.asarray([1.2, -0.75])"
   ]
  },
  {
   "cell_type": "markdown",
   "metadata": {},
   "source": [
    "Create a \"true\" alpha value which controls the prior precision"
   ]
  },
  {
   "cell_type": "code",
   "execution_count": 13,
   "metadata": {},
   "outputs": [],
   "source": [
    "true_alpha = 0.01"
   ]
  },
  {
   "cell_type": "markdown",
   "metadata": {},
   "source": [
    "Create a \"true\" beta which defines the likelihood precision"
   ]
  },
  {
   "cell_type": "code",
   "execution_count": 14,
   "metadata": {},
   "outputs": [],
   "source": [
    "true_beta = 0.5"
   ]
  },
  {
   "cell_type": "markdown",
   "metadata": {},
   "source": [
    "Create observed features $x$ and do a \"feature transform\" that just adds a column of all ones (an \"intercept\" feature)"
   ]
  },
  {
   "cell_type": "code",
   "execution_count": 15,
   "metadata": {},
   "outputs": [],
   "source": [
    "x_N1 = prng.uniform(low=-7, high=7, size=N)[:,np.newaxis]\n",
    "phi_NM = calc_features(x_N1)"
   ]
  },
  {
   "cell_type": "markdown",
   "metadata": {},
   "source": [
    "Generate outputs t using our assumed model"
   ]
  },
  {
   "cell_type": "code",
   "execution_count": 16,
   "metadata": {},
   "outputs": [],
   "source": [
    "t_N = prng.normal( np.dot(phi_NM, true_w_M), 1.0/true_beta)"
   ]
  },
  {
   "cell_type": "markdown",
   "metadata": {},
   "source": [
    "## Visualize the toy dataset"
   ]
  },
  {
   "cell_type": "code",
   "execution_count": 19,
   "metadata": {},
   "outputs": [
    {
     "data": {
      "image/png": "[encoded data removed]",
      "text/plain": [
       "<Figure size 432x288 with 1 Axes>"
      ]
     },
     "metadata": {},
     "output_type": "display_data"
    }
   ],
   "source": [
    "plt.plot(x_N1, t_N, 'k.');\n",
    "\n",
    "ax_h = plt.gca()\n",
    "ax_h.set_aspect('equal', 'box');\n",
    "ax_h.set_xlim([-8, 8]); ax_h.set_xticks([-6, -4, -2, 0, 2, 4, 6]);\n",
    "ax_h.set_ylim([-8, 8]); ax_h.set_yticks([-6, -4, -2, 0, 2, 4, 6]);\n",
    "\n",
    "xgrid_G = np.linspace(-8, 8, 100)[:,np.newaxis]\n",
    "plt.plot(xgrid_G, np.dot(calc_features(xgrid_G), true_w_M), 'c-', linewidth=3);\n",
    "\n",
    "plt.xlabel('input: x');\n",
    "plt.ylabel('output: t');\n",
    "plt.title(\"Toy Data\\n true_slope %.2f \\n true intercept %.2f\\n true precision beta %.2f\" % (\n",
    "    true_w_M[1], true_w_M[0], true_beta));"
   ]
  },
  {
   "cell_type": "markdown",
   "metadata": {},
   "source": [
    "## Posterior over weights"
   ]
  },
  {
   "cell_type": "markdown",
   "metadata": {},
   "source": [
    "Recall the formulas for the posterior over the weight vector $w$, simplified for our zero-mean, diagonal-covariance prior on $w$:\n",
    "\n",
    "\\begin{align}\n",
    "p( w | t) &= \\text{MVNormPDF}( w | m, S )\n",
    "\\\\\n",
    "S^{-1} &= \\alpha I_M + \\beta \\Phi^T \\Phi\n",
    "\\\\\n",
    "m &= \\beta S \\Phi^T \\mathbf{t}\n",
    "\\end{align}\n",
    "\n",
    "In other words, the posterior is a Gaussian distribution, where:\n",
    "* $m$ is the mean vector of shape $(M,)$ \n",
    "* $S$ is the covariance matrix of shape $(M, M)$\n",
    "\n",
    "\n",
    "The ingredients of these formulas are:\n",
    "* $\\alpha > 0$ : prior precision\n",
    "* $\\beta > 0$ : likelihood precision\n",
    "* $\\Phi$ : N x M matrix of transformed features (\"inputs\")\n",
    "* $\\mathbf{t}$ : N-dimensional vector of observed outputs\n",
    "* $I_M $: M x M [identity matrix](https://en.wikipedia.org/wiki/Identity_matrix) (can create with `np.eye(M)`)"
   ]
  },
  {
   "cell_type": "markdown",
   "metadata": {},
   "source": [
    "## Exercise 1b: Compute the parameters of the posterior\n",
    "\n",
    "Translate the formulas above into concrete NumPy expressions that compute the mean $m$ and covariance $S$:m"
   ]
  },
  {
   "cell_type": "code",
   "execution_count": 26,
   "metadata": {},
   "outputs": [],
   "source": [
    "def calc_parameters_of_posterior(phi_NM, t_N, alpha=0.1, beta=0.1):\n",
    "    ''' Compute parameters of the posterior for weights w\n",
    "    \n",
    "    Args\n",
    "    ----\n",
    "    phi_NM : 2D array, shape (N,M)\n",
    "        Each row is a feature vector for one example\n",
    "    t_N : 1D array, shape (N,)\n",
    "        Each row is a output scalar value for one example\n",
    "    alpha : positive scalar\n",
    "        Prior precision\n",
    "    beta : positive scalar\n",
    "        Likelihood precision\n",
    "    \n",
    "    Returns\n",
    "    -------\n",
    "    m_M : posterior mean vector, shape (M,)\n",
    "    S_MM : posterior covariance matrix, shape (M, M)\n",
    "    '''\n",
    "    N, M = phi_NM.shape\n",
    "    invS_MM = np.eye(M) # TODO determine the inverse of S via formulas above\n",
    "    S_MM = np.linalg.inv(invS_MM) # Invert to get the value of S (covariance matrix)\n",
    "    \n",
    "    m_M = np.zeros(M) # TODO determine the mean vector via formulas above\n",
    "    return m_M, S_MM"
   ]
  },
  {
   "cell_type": "markdown",
   "metadata": {},
   "source": [
    "## Exercise 1c: Compute posterior parameters when given all N=2000 observations\n",
    "\n",
    "How close is the posterior mean to the \"true\" vector of weights that generated the data?\n",
    "\n",
    "How \"uncertain\" is the posterior (look at variance values in the covariance matrix)"
   ]
  },
  {
   "cell_type": "code",
   "execution_count": 34,
   "metadata": {},
   "outputs": [],
   "source": [
    "# TODO call calc_parameters_of_posterior(...) with the toy dataset we generated above\n",
    "# Use the \"true\" alpha/beta values\n",
    "\n",
    "# TODO inspect the mean and covariance that is returned. Does it make sense?"
   ]
  },
  {
   "cell_type": "markdown",
   "metadata": {},
   "source": [
    "## Exercise 1d: Visualize samples from the posterior as more data is observed\n",
    "\n",
    "Do you see the posterior \"concentrate\" its mass on the true value as more data is observed?\n"
   ]
  },
  {
   "cell_type": "code",
   "execution_count": 35,
   "metadata": {},
   "outputs": [
    {
     "data": {
      "image/png": "[encoded data removed]",
      "text/plain": [
       "<Figure size 1728x288 with 6 Axes>"
      ]
     },
     "metadata": {},
     "output_type": "display_data"
    }
   ],
   "source": [
    "# Define the number of observations to look at to make a posterior\n",
    "N_values = [0, 2, 8, 32, 128, N]\n",
    "C = len(N_values)\n",
    "\n",
    "# Define the number of samples from the posterior to visualize\n",
    "R = 10\n",
    "\n",
    "fig_h, axgrid = plt.subplots(nrows=1, ncols=C, sharex=True, sharey=True, figsize=(C * 4, 4))\n",
    "\n",
    "for col_id, Ncur in enumerate(N_values):\n",
    "\n",
    "    # Create the posterior from the first Ncur observations\n",
    "    # Hint: use phi_NM[:10] to get the first 10 observations\n",
    "    m_M, S_MM = np.zeros(M), np.eye(M) # TODO call calc_parameters_of_posterior(...)\n",
    "    \n",
    "    # Activate current subplot and get its handle\n",
    "    ax_h = axgrid[col_id]\n",
    "    \n",
    "    # Show the observed data\n",
    "    ax_h.plot(x_N1[:Ncur], t_N[:Ncur], linestyle='', marker='s', color='black')\n",
    "\n",
    "    for rr in range(R):\n",
    "        # Create a uniform grid of possible x values, to use in making predictions\n",
    "        xgrid_G = np.linspace(-8, 8, 100)[:,np.newaxis]\n",
    "\n",
    "        # Draw one sample vector from the posterior with the parameters defined above\n",
    "        wsamp_rr_M = m_M # TODO call prng.multivariate_normal with mean m_M and covar S_MM\n",
    "    \n",
    "        # Produce the output values *t* that we get from the current sample of w_M\n",
    "        # after multiplying that weight vector with our features\n",
    "        tsamp_rr_G = np.dot(calc_features(xgrid_G), wsamp_rr_M)\n",
    "\n",
    "        # Show a plot of this sample on current axis\n",
    "        ax_h.plot(xgrid_G, tsamp_rr_G, '-');\n",
    "\n",
    "    # Make plots pretty and standardized\n",
    "    ax_h.set_aspect('equal', 'box');\n",
    "    ax_h.set_xlim([-8, 8]); ax_h.set_xticks([-6, -4, -2, 0, 2, 4, 6]);\n",
    "    ax_h.set_ylim([-8, 8]); ax_h.set_yticks([-6, -4, -2, 0, 2, 4, 6]);\n",
    "    ax_h.set_xlabel('input $x$')\n",
    "    if col_id == 0:\n",
    "        ax_h.set_ylabel('output $t$')\n",
    "    ax_h.set_title('after N=%d' % Ncur)"
   ]
  },
  {
   "cell_type": "markdown",
   "metadata": {},
   "source": [
    "## Exercise 1e: Visualize samples from posterior if we use WRONG values for $\\beta$\n",
    "\n",
    "The true beta value we used to generate the data was $\\beta = 0.5$\n",
    "\n",
    "What if instead we use $\\beta = 10$.... what will happen?\n",
    "\n",
    "Compare and contrast with the above in 1d."
   ]
  },
  {
   "cell_type": "code",
   "execution_count": 36,
   "metadata": {},
   "outputs": [],
   "source": [
    "wrong_beta = 10.0\n",
    "\n",
    "# Define the number of observations to look at to make a posterior\n",
    "N_values = [0, 2, 8, 32, 128, N]\n",
    "C = len(N_values)\n",
    "\n",
    "# Define the number of samples from the posterior to visualize\n",
    "R = 10\n",
    "\n",
    "# TODO copy code from above, but use *wrong beta* instead of *true_beta*"
   ]
  },
  {
   "cell_type": "code",
   "execution_count": null,
   "metadata": {},
   "outputs": [],
   "source": []
  },
  {
   "cell_type": "code",
   "execution_count": null,
   "metadata": {},
   "outputs": [],
   "source": []
  }
 ],
 "metadata": {
  "kernelspec": {
   "display_name": "Python 3",
   "language": "python",
   "name": "python3"
  },
  "language_info": {
   "codemirror_mode": {
    "name": "ipython",
    "version": 3
   },
   "file_extension": ".py",
   "mimetype": "text/x-python",
   "name": "python",
   "nbconvert_exporter": "python",
   "pygments_lexer": "ipython3",
   "version": "3.9.1"
  }
 },
 "nbformat": 4,
 "nbformat_minor": 2
}
